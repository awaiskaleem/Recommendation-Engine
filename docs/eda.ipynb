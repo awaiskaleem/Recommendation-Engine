{
 "cells": [
  {
   "cell_type": "code",
   "execution_count": 93,
   "metadata": {},
   "outputs": [],
   "source": [
    "import numpy as np \n",
    "import pandas as pd\n",
    "import datetime\n",
    "import matplotlib.pyplot as plt\n",
    "from matplotlib import font_manager as fm"
   ]
  },
  {
   "cell_type": "markdown",
   "metadata": {},
   "source": [
    "<h2>Data Acquisition"
   ]
  },
  {
   "cell_type": "code",
   "execution_count": 105,
   "metadata": {},
   "outputs": [],
   "source": [
    "start_date = '2015-05-03'\n",
    "end_date = '2015-05-30'\n",
    "\n",
    "events = pd.read_csv('../data/events.csv')\n",
    "events = events.drop_duplicates(subset=['timestamp', 'visitorid','itemid'], keep = 'first')\n",
    "events = events.assign(date=pd.Series(datetime.datetime.fromtimestamp(i/1000).date() for i in events.timestamp))\n",
    "events = events.sort_values('date').reset_index(drop=True)\n",
    "fd = lambda x: datetime.datetime.strptime(x, '%Y-%m-%d').date()\n",
    "events = events[(events.date >= fd(start_date)) & (events.date <= fd(end_date))]\n",
    "times =[]\n",
    "for i in events.timestamp:\n",
    "    times.append(datetime.datetime.fromtimestamp(i//1000.0))\n",
    "events.timestamp = times\n",
    "\n",
    "\n",
    "category_df = pd.read_csv('../data/category_tree.csv')\n",
    "category_df.loc[category_df.parentid!=category_df.parentid, 'parentid'] = 0\n",
    "\n",
    "items = pd.concat(\n",
    "            [pd.read_csv('../data/item_properties_part1.csv')\n",
    "            , pd.read_csv('../data/item_properties_part2.csv')])\n",
    "times =[]\n",
    "for i in items.timestamp:\n",
    "    times.append(datetime.datetime.fromtimestamp(i//1000.0))\n",
    "items.timestamp = times\n",
    "items = items[(items.property == 'categoryid')][['itemid','value']].drop_duplicates()\n",
    "items = items.drop_duplicates(subset=['itemid','value'], keep = 'first')\n",
    "items['value'] = items['value'].astype(int)\n",
    "items = items.rename(columns={'value':'categoryid'})\n",
    "category_df['parentid'] = category_df['parentid'].astype(int)\n",
    "items = pd.merge(items, category_df, on='categoryid',  how='inner')"
   ]
  },
  {
   "cell_type": "code",
   "execution_count": 106,
   "metadata": {},
   "outputs": [],
   "source": [
    "items_bkp = items.copy()\n",
    "category_df_bkp = category_df.copy()\n",
    "events_bkp = events.copy()\n",
    "\n",
    "# items = items_bkp.copy()\n",
    "# category_df = category_df_bkp.copy()\n",
    "# events = events_bkp.copy()"
   ]
  },
  {
   "cell_type": "markdown",
   "metadata": {},
   "source": [
    "Looking at visit frequencies of users:"
   ]
  },
  {
   "cell_type": "code",
   "execution_count": 107,
   "metadata": {},
   "outputs": [
    {
     "name": "stdout",
     "output_type": "stream",
     "text": [
      "Visitors that appear less than  2 times:          71.91%\n",
      "Visitors that appear less than  5 times:          94.38%\n",
      "Visitors that appear less than 10 times:          98.36%\n",
      "Visitors that appear less than 15 times:          99.21%\n"
     ]
    }
   ],
   "source": [
    "visitors = events.visitorid.value_counts()\n",
    "for i in [2, 5, 10, 15]:\n",
    "    print(f'Visitors that appear less than {i:>2} times:\\\n",
    "          {round((visitors < i).mean() * 100, 2):.02f}%')"
   ]
  },
  {
   "cell_type": "markdown",
   "metadata": {},
   "source": [
    "Let's have a relevant look in items"
   ]
  },
  {
   "cell_type": "code",
   "execution_count": 108,
   "metadata": {},
   "outputs": [
    {
     "name": "stdout",
     "output_type": "stream",
     "text": [
      "Items that appear less than    2 times:          43.87%\n",
      "Items that appear less than   10 times:          88.52%\n",
      "Items that appear less than   50 times:          98.89%\n",
      "Items that appear less than  100 times:          99.73%\n",
      "Items that appear less than 1000 times:          100.0%\n"
     ]
    }
   ],
   "source": [
    "items = events.itemid.value_counts()\n",
    "for i in [2, 10, 50, 100, 1000]:\n",
    "    print(f'Items that appear less than {i:>4} times:\\\n",
    "          {round((items < i).mean() * 100, 2)}%')"
   ]
  },
  {
   "cell_type": "code",
   "execution_count": 109,
   "metadata": {},
   "outputs": [
    {
     "data": {
      "text/html": [
       "<div>\n",
       "<style scoped>\n",
       "    .dataframe tbody tr th:only-of-type {\n",
       "        vertical-align: middle;\n",
       "    }\n",
       "\n",
       "    .dataframe tbody tr th {\n",
       "        vertical-align: top;\n",
       "    }\n",
       "\n",
       "    .dataframe thead th {\n",
       "        text-align: right;\n",
       "    }\n",
       "</style>\n",
       "<table border=\"1\" class=\"dataframe\">\n",
       "  <thead>\n",
       "    <tr style=\"text-align: right;\">\n",
       "      <th></th>\n",
       "      <th>timestamp</th>\n",
       "      <th>visitorid</th>\n",
       "      <th>event</th>\n",
       "      <th>itemid</th>\n",
       "      <th>transactionid</th>\n",
       "      <th>date</th>\n",
       "    </tr>\n",
       "  </thead>\n",
       "  <tbody>\n",
       "    <tr>\n",
       "      <th>0</th>\n",
       "      <td>2015-05-04 06:19:02</td>\n",
       "      <td>1225210</td>\n",
       "      <td>view</td>\n",
       "      <td>239590</td>\n",
       "      <td>NaN</td>\n",
       "      <td>2015-05-03</td>\n",
       "    </tr>\n",
       "    <tr>\n",
       "      <th>1</th>\n",
       "      <td>2015-05-04 04:55:33</td>\n",
       "      <td>405346</td>\n",
       "      <td>view</td>\n",
       "      <td>361103</td>\n",
       "      <td>NaN</td>\n",
       "      <td>2015-05-03</td>\n",
       "    </tr>\n",
       "    <tr>\n",
       "      <th>2</th>\n",
       "      <td>2015-05-04 04:59:37</td>\n",
       "      <td>245295</td>\n",
       "      <td>view</td>\n",
       "      <td>20906</td>\n",
       "      <td>NaN</td>\n",
       "      <td>2015-05-03</td>\n",
       "    </tr>\n",
       "    <tr>\n",
       "      <th>3</th>\n",
       "      <td>2015-05-04 05:27:46</td>\n",
       "      <td>397243</td>\n",
       "      <td>view</td>\n",
       "      <td>387729</td>\n",
       "      <td>NaN</td>\n",
       "      <td>2015-05-03</td>\n",
       "    </tr>\n",
       "    <tr>\n",
       "      <th>4</th>\n",
       "      <td>2015-05-04 05:02:43</td>\n",
       "      <td>109956</td>\n",
       "      <td>view</td>\n",
       "      <td>460034</td>\n",
       "      <td>NaN</td>\n",
       "      <td>2015-05-03</td>\n",
       "    </tr>\n",
       "    <tr>\n",
       "      <th>...</th>\n",
       "      <td>...</td>\n",
       "      <td>...</td>\n",
       "      <td>...</td>\n",
       "      <td>...</td>\n",
       "      <td>...</td>\n",
       "      <td>...</td>\n",
       "    </tr>\n",
       "    <tr>\n",
       "      <th>572280</th>\n",
       "      <td>2015-05-31 06:45:55</td>\n",
       "      <td>769228</td>\n",
       "      <td>view</td>\n",
       "      <td>230568</td>\n",
       "      <td>NaN</td>\n",
       "      <td>2015-05-30</td>\n",
       "    </tr>\n",
       "    <tr>\n",
       "      <th>572281</th>\n",
       "      <td>2015-05-31 06:09:26</td>\n",
       "      <td>1055890</td>\n",
       "      <td>view</td>\n",
       "      <td>119636</td>\n",
       "      <td>NaN</td>\n",
       "      <td>2015-05-30</td>\n",
       "    </tr>\n",
       "    <tr>\n",
       "      <th>572282</th>\n",
       "      <td>2015-05-31 07:00:37</td>\n",
       "      <td>973081</td>\n",
       "      <td>view</td>\n",
       "      <td>222764</td>\n",
       "      <td>NaN</td>\n",
       "      <td>2015-05-30</td>\n",
       "    </tr>\n",
       "    <tr>\n",
       "      <th>572283</th>\n",
       "      <td>2015-05-31 05:50:15</td>\n",
       "      <td>852663</td>\n",
       "      <td>view</td>\n",
       "      <td>213839</td>\n",
       "      <td>NaN</td>\n",
       "      <td>2015-05-30</td>\n",
       "    </tr>\n",
       "    <tr>\n",
       "      <th>572284</th>\n",
       "      <td>2015-05-31 06:40:49</td>\n",
       "      <td>825733</td>\n",
       "      <td>view</td>\n",
       "      <td>83045</td>\n",
       "      <td>NaN</td>\n",
       "      <td>2015-05-30</td>\n",
       "    </tr>\n",
       "  </tbody>\n",
       "</table>\n",
       "<p>572285 rows × 6 columns</p>\n",
       "</div>"
      ],
      "text/plain": [
       "                 timestamp  visitorid event  itemid  transactionid        date\n",
       "0      2015-05-04 06:19:02    1225210  view  239590            NaN  2015-05-03\n",
       "1      2015-05-04 04:55:33     405346  view  361103            NaN  2015-05-03\n",
       "2      2015-05-04 04:59:37     245295  view   20906            NaN  2015-05-03\n",
       "3      2015-05-04 05:27:46     397243  view  387729            NaN  2015-05-03\n",
       "4      2015-05-04 05:02:43     109956  view  460034            NaN  2015-05-03\n",
       "...                    ...        ...   ...     ...            ...         ...\n",
       "572280 2015-05-31 06:45:55     769228  view  230568            NaN  2015-05-30\n",
       "572281 2015-05-31 06:09:26    1055890  view  119636            NaN  2015-05-30\n",
       "572282 2015-05-31 07:00:37     973081  view  222764            NaN  2015-05-30\n",
       "572283 2015-05-31 05:50:15     852663  view  213839            NaN  2015-05-30\n",
       "572284 2015-05-31 06:40:49     825733  view   83045            NaN  2015-05-30\n",
       "\n",
       "[572285 rows x 6 columns]"
      ]
     },
     "execution_count": 109,
     "metadata": {},
     "output_type": "execute_result"
    }
   ],
   "source": [
    "events"
   ]
  },
  {
   "cell_type": "code",
   "execution_count": 110,
   "metadata": {},
   "outputs": [
    {
     "ename": "AttributeError",
     "evalue": "'Series' object has no attribute 'isoweekday'",
     "output_type": "error",
     "traceback": [
      "\u001b[0;31m---------------------------------------------------------------------------\u001b[0m",
      "\u001b[0;31mAttributeError\u001b[0m                            Traceback (most recent call last)",
      "\u001b[0;32m<ipython-input-110-c3e29b9cbd31>\u001b[0m in \u001b[0;36m<module>\u001b[0;34m\u001b[0m\n\u001b[0;32m----> 1\u001b[0;31m \u001b[0mevents\u001b[0m\u001b[0;34m.\u001b[0m\u001b[0mtimestamp\u001b[0m\u001b[0;34m.\u001b[0m\u001b[0misoweekday\u001b[0m\u001b[0;34m(\u001b[0m\u001b[0;34m)\u001b[0m\u001b[0;34m\u001b[0m\u001b[0;34m\u001b[0m\u001b[0m\n\u001b[0m",
      "\u001b[0;32m~/anaconda3/lib/python3.7/site-packages/pandas/core/generic.py\u001b[0m in \u001b[0;36m__getattr__\u001b[0;34m(self, name)\u001b[0m\n\u001b[1;32m   5272\u001b[0m             \u001b[0;32mif\u001b[0m \u001b[0mself\u001b[0m\u001b[0;34m.\u001b[0m\u001b[0m_info_axis\u001b[0m\u001b[0;34m.\u001b[0m\u001b[0m_can_hold_identifiers_and_holds_name\u001b[0m\u001b[0;34m(\u001b[0m\u001b[0mname\u001b[0m\u001b[0;34m)\u001b[0m\u001b[0;34m:\u001b[0m\u001b[0;34m\u001b[0m\u001b[0;34m\u001b[0m\u001b[0m\n\u001b[1;32m   5273\u001b[0m                 \u001b[0;32mreturn\u001b[0m \u001b[0mself\u001b[0m\u001b[0;34m[\u001b[0m\u001b[0mname\u001b[0m\u001b[0;34m]\u001b[0m\u001b[0;34m\u001b[0m\u001b[0;34m\u001b[0m\u001b[0m\n\u001b[0;32m-> 5274\u001b[0;31m             \u001b[0;32mreturn\u001b[0m \u001b[0mobject\u001b[0m\u001b[0;34m.\u001b[0m\u001b[0m__getattribute__\u001b[0m\u001b[0;34m(\u001b[0m\u001b[0mself\u001b[0m\u001b[0;34m,\u001b[0m \u001b[0mname\u001b[0m\u001b[0;34m)\u001b[0m\u001b[0;34m\u001b[0m\u001b[0;34m\u001b[0m\u001b[0m\n\u001b[0m\u001b[1;32m   5275\u001b[0m \u001b[0;34m\u001b[0m\u001b[0m\n\u001b[1;32m   5276\u001b[0m     \u001b[0;32mdef\u001b[0m \u001b[0m__setattr__\u001b[0m\u001b[0;34m(\u001b[0m\u001b[0mself\u001b[0m\u001b[0;34m,\u001b[0m \u001b[0mname\u001b[0m\u001b[0;34m:\u001b[0m \u001b[0mstr\u001b[0m\u001b[0;34m,\u001b[0m \u001b[0mvalue\u001b[0m\u001b[0;34m)\u001b[0m \u001b[0;34m->\u001b[0m \u001b[0;32mNone\u001b[0m\u001b[0;34m:\u001b[0m\u001b[0;34m\u001b[0m\u001b[0;34m\u001b[0m\u001b[0m\n",
      "\u001b[0;31mAttributeError\u001b[0m: 'Series' object has no attribute 'isoweekday'"
     ]
    }
   ],
   "source": [
    "events.timestamp.astype(datetime.datetime).isoweekday().isoweekday()"
   ]
  },
  {
   "cell_type": "code",
   "execution_count": 95,
   "metadata": {},
   "outputs": [
    {
     "data": {
      "image/png": "[encoded data removed]",
      "text/plain": [
       "<Figure size 864x432 with 1 Axes>"
      ]
     },
     "metadata": {
      "needs_background": "light"
     },
     "output_type": "display_data"
    }
   ],
   "source": [
    "hour = lambda x: (datetime.datetime.fromtimestamp(x)-datetime.timedelta(hours=5)).hour\n",
    "timestamp = events[['timestamp', 'event']].copy()\n",
    "timestamp['timestamp'] = timestamp.timestamp / 1000\n",
    "timestamp['hour'] = timestamp['timestamp'].apply(hour)\n",
    "\n",
    "timestamp.head()\n",
    "plt.figure(figsize=(12,6))\n",
    "timestamp.hour.hist(bins=np.linspace(-0.5, 23.5, 25), alpha=1, density=True)\n",
    "plt.xlim(-0.5, 23.5)\n",
    "plt.xlabel(\"Hour of Day\")\n",
    "plt.ylabel(\"Fraction of Events\")\n",
    "plt.show()"
   ]
  },
  {
   "cell_type": "code",
   "execution_count": null,
   "metadata": {},
   "outputs": [],
   "source": []
  }
 ],
 "metadata": {
  "kernelspec": {
   "display_name": "Python 3",
   "language": "python",
   "name": "python3"
  },
  "language_info": {
   "codemirror_mode": {
    "name": "ipython",
    "version": 3
   },
   "file_extension": ".py",
   "mimetype": "text/x-python",
   "name": "python",
   "nbconvert_exporter": "python",
   "pygments_lexer": "ipython3",
   "version": "3.7.3"
  }
 },
 "nbformat": 4,
 "nbformat_minor": 2
}
