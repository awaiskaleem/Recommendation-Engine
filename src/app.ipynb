{
 "cells": [
  {
   "cell_type": "code",
   "execution_count": 124,
   "metadata": {},
   "outputs": [
    {
     "name": "stdout",
     "output_type": "stream",
     "text": [
      "Replaced\n"
     ]
    }
   ],
   "source": [
    "if 'etl.preprocessing' in sys.modules:  \n",
    "    print(\"Replaced\")\n",
    "    del sys.modules[\"etl.preprocessing\"]\n",
    "\n",
    "from etl.feature_extractor import Items, Interactions\n",
    "from etl.preprocessing import Preprocessor"
   ]
  },
  {
   "cell_type": "code",
   "execution_count": 125,
   "metadata": {},
   "outputs": [],
   "source": [
    "items = Items()\n",
    "items.items"
   ]
  },
  {
   "cell_type": "code",
   "execution_count": 126,
   "metadata": {},
   "outputs": [],
   "source": [
    "interactions = Interactions()"
   ]
  },
  {
   "cell_type": "code",
   "execution_count": 127,
   "metadata": {},
   "outputs": [],
   "source": [
    "model_data = Preprocessor(items, interactions, 'visitorid','itemid')"
   ]
  },
  {
   "cell_type": "code",
   "execution_count": 128,
   "metadata": {},
   "outputs": [
    {
     "data": {
      "text/plain": [
       "{'train': <121911x61686 sparse matrix of type '<class 'numpy.int64'>'\n",
       " \twith 178962 stored elements in COOrdinate format>,\n",
       " 'test': <121911x61686 sparse matrix of type '<class 'numpy.int64'>'\n",
       " \twith 12058 stored elements in COOrdinate format>,\n",
       " 'feature': <61686x1258 sparse matrix of type '<class 'numpy.int64'>'\n",
       " \twith 132326 stored elements in COOrdinate format>}"
      ]
     },
     "execution_count": 128,
     "metadata": {},
     "output_type": "execute_result"
    }
   ],
   "source": [
    "model_data.rate_matrix"
   ]
  },
  {
   "cell_type": "code",
   "execution_count": 360,
   "metadata": {},
   "outputs": [
    {
     "data": {
      "text/plain": [
       "<lightfm.lightfm.LightFM at 0x126ede438>"
      ]
     },
     "execution_count": 360,
     "metadata": {},
     "output_type": "execute_result"
    }
   ],
   "source": [
    "model = LightFM(no_components=20, loss='warp', learning_rate=0.01)\n",
    "model.fit(\n",
    "    model_data.rate_matrix['train']\n",
    "    , item_features = None#model_data.rate_matrix['feature']\n",
    "    , epochs=50, num_threads=8)"
   ]
  },
  {
   "cell_type": "code",
   "execution_count": 361,
   "metadata": {},
   "outputs": [
    {
     "name": "stdout",
     "output_type": "stream",
     "text": [
      "average AUC without adding item-feature interaction = 0.80\n",
      "average Precision without adding item-feature interaction = 0.01\n",
      "average Recall without adding item-feature interaction = 0.04\n"
     ]
    }
   ],
   "source": [
    "auc_without_features = auc_score(model = model, \n",
    "                        test_interactions = model_data.rate_matrix['test'],\n",
    "                        num_threads = 4, check_intersections = False)\n",
    "print(\"average AUC without adding item-feature interaction = {0:.{1}f}\".format(auc_without_features.mean(), 2))\n",
    "\n",
    "precision_without_features = precision_at_k(model = model, \n",
    "                        test_interactions = model_data.rate_matrix['test'],\n",
    "                        num_threads = 4, check_intersections = False)\n",
    "print(\"average Precision without adding item-feature interaction = {0:.{1}f}\".format(precision_without_features.mean(), 2))\n",
    "\n",
    "recall_without_features = recall_at_k(model = model, \n",
    "                        test_interactions = model_data.rate_matrix['test'],\n",
    "                        num_threads = 4, check_intersections = False)\n",
    "print(\"average Recall without adding item-feature interaction = {0:.{1}f}\".format(recall_without_features.mean(), 2))"
   ]
  },
  {
   "cell_type": "code",
   "execution_count": 362,
   "metadata": {},
   "outputs": [
    {
     "data": {
      "text/plain": [
       "<lightfm.lightfm.LightFM at 0x1260c8390>"
      ]
     },
     "execution_count": 362,
     "metadata": {},
     "output_type": "execute_result"
    }
   ],
   "source": [
    "model = LightFM(no_components=20, loss='warp', learning_rate=0.01)\n",
    "model.fit(\n",
    "    model_data.rate_matrix['train']\n",
    "    , item_features = model_data.rate_matrix['feature']\n",
    "    , epochs=50, num_threads=8)"
   ]
  },
  {
   "cell_type": "code",
   "execution_count": 363,
   "metadata": {},
   "outputs": [
    {
     "name": "stdout",
     "output_type": "stream",
     "text": [
      "average AUC without adding item-feature interaction = 0.90\n",
      "average Precision without adding item-feature interaction = 0.00\n",
      "average Recall without adding item-feature interaction = 0.01\n"
     ]
    }
   ],
   "source": [
    "auc_without_features = auc_score(model = model, \n",
    "                        test_interactions = model_data.rate_matrix['test'],\n",
    "                        item_features = model_data.rate_matrix['feature'],\n",
    "                        num_threads = 4, check_intersections = False)\n",
    "print(\"average AUC without adding item-feature interaction = {0:.{1}f}\".format(auc_without_features.mean(), 2))\n",
    "\n",
    "precision_without_features = precision_at_k(model = model, \n",
    "                        test_interactions = model_data.rate_matrix['test'],\n",
    "                        item_features = model_data.rate_matrix['feature'],\n",
    "                        num_threads = 4, check_intersections = False)\n",
    "print(\"average Precision without adding item-feature interaction = {0:.{1}f}\".format(precision_without_features.mean(), 2))\n",
    "\n",
    "recall_without_features = recall_at_k(model = model, \n",
    "                        test_interactions = model_data.rate_matrix['test'],\n",
    "                        item_features = model_data.rate_matrix['feature'],\n",
    "                        num_threads = 4, check_intersections = False)\n",
    "print(\"average Recall without adding item-feature interaction = {0:.{1}f}\".format(recall_without_features.mean(), 2))"
   ]
  },
  {
   "cell_type": "code",
   "execution_count": 213,
   "metadata": {},
   "outputs": [
    {
     "name": "stderr",
     "output_type": "stream",
     "text": [
      "/Users/awaiskaleem/anaconda3/lib/python3.7/site-packages/ipykernel_launcher.py:5: SettingWithCopyWarning: \n",
      "A value is trying to be set on a copy of a slice from a DataFrame.\n",
      "Try using .loc[row_indexer,col_indexer] = value instead\n",
      "\n",
      "See the caveats in the documentation: https://pandas.pydata.org/pandas-docs/stable/user_guide/indexing.html#returning-a-view-versus-a-copy\n",
      "  \"\"\"\n"
     ]
    },
    {
     "data": {
      "text/html": [
       "<div>\n",
       "<style scoped>\n",
       "    .dataframe tbody tr th:only-of-type {\n",
       "        vertical-align: middle;\n",
       "    }\n",
       "\n",
       "    .dataframe tbody tr th {\n",
       "        vertical-align: top;\n",
       "    }\n",
       "\n",
       "    .dataframe thead th {\n",
       "        text-align: right;\n",
       "    }\n",
       "</style>\n",
       "<table border=\"1\" class=\"dataframe\">\n",
       "  <thead>\n",
       "    <tr style=\"text-align: right;\">\n",
       "      <th></th>\n",
       "      <th>visitorid</th>\n",
       "      <th>itemid</th>\n",
       "      <th>rating</th>\n",
       "      <th>recommemdation</th>\n",
       "    </tr>\n",
       "  </thead>\n",
       "  <tbody>\n",
       "    <tr>\n",
       "      <th>151453</th>\n",
       "      <td>517086</td>\n",
       "      <td>138017</td>\n",
       "      <td>1</td>\n",
       "      <td>5.283116</td>\n",
       "    </tr>\n",
       "  </tbody>\n",
       "</table>\n",
       "</div>"
      ],
      "text/plain": [
       "        visitorid  itemid  rating  recommemdation\n",
       "151453     517086  138017       1        5.283116"
      ]
     },
     "execution_count": 213,
     "metadata": {},
     "output_type": "execute_result"
    }
   ],
   "source": [
    "results = model_data.interactions.test[:1]\n",
    "results['recommemdation'] = model.predict(\n",
    "    user_ids = model_data.cate_enc_dict['visitorid'].transform(results['visitorid'])\n",
    "    , item_ids = model_data.cate_enc_dict['itemid'].transform(results['itemid'])\n",
    "    , item_features = model_data.rate_matrix['feature']\n",
    ")\n",
    "results"
   ]
  },
  {
   "cell_type": "code",
   "execution_count": 336,
   "metadata": {},
   "outputs": [],
   "source": [
    "def predict_recom(user_id_orig, item_id_orig, model_data, recom_num, model):\n",
    "    result_dict = dict()\n",
    "    result_array = list()\n",
    "    user_id = model_data.cate_enc_dict['visitorid'].transform(user_id_orig)\n",
    "    item_id = model_data.cate_enc_dict['itemid'].transform(item_id_orig)\n",
    "    #Known Positives\n",
    "    known_positives = np.unique(\n",
    "        np.concatenate\n",
    "        (\n",
    "            (model_data.interactions.train['itemid'].values\n",
    "             [np.where(model_data.trans_cat_train['visitorid']==user_id)]\n",
    "                    , model_data.interactions.test['itemid'].values[\n",
    "                        np.where(model_data.trans_cat_test['visitorid']==user_id)]), axis=0))\n",
    "    \n",
    "    #Recommended\n",
    "    scores = np.unique(model.predict(\n",
    "        user_ids = user_id\n",
    "    , item_ids = item_id\n",
    "    , item_features = model_data.rate_matrix['feature']\n",
    "    )\n",
    "                      )\n",
    "\n",
    "    top_items = model_data.trans_cat_test['itemid'][np.argsort(-scores)]\n",
    "    # printing out the result\n",
    "    print(\"User %s\" % model_data.cate_enc_dict['visitorid'].inverse_transform([user_id])[0])\n",
    "    print(\"     Known positives:\")\n",
    "\n",
    "    for x in known_positives[:recom_num]:\n",
    "        print(\"                  %s\" % x)\n",
    "\n",
    "\n",
    "    print(\"     Recommended:\",item_id)\n",
    "    print(similar_items(\n",
    "    item_id[0]\n",
    "    , model_data.rate_matrix['feature']\n",
    "    , model))\n",
    "#     for x in top_items[:5]:\n",
    "#         print(\"                  %s\" % model_data.cate_enc_dict['itemid'].inverse_transform([x])[0])\n",
    "#         result_array.append(x)\n",
    "# #     result_dict[user_id_orig] = result_array\n",
    "    print(\"\")\n",
    "#     return results_dict\n",
    "\n",
    "def similar_items(internal_idx, item_feats_mtx, model, N=10):\n",
    "    item_representations = item_feats_mtx.dot(model.item_embeddings)\n",
    "\n",
    "    # Cosine similarity\n",
    "    scores = item_representations.dot(item_representations[internal_idx, :])\n",
    "    item_norms = np.linalg.norm(item_representations, axis=1)\n",
    "    scores /= item_norms\n",
    "\n",
    "    best = np.argpartition(scores, -N)[-N:]\n",
    "    return sorted(zip(best, scores[best] / item_norms[internal_idx]),\n",
    "                  key=lambda x: -x[1])"
   ]
  },
  {
   "cell_type": "code",
   "execution_count": 342,
   "metadata": {},
   "outputs": [
    {
     "name": "stdout",
     "output_type": "stream",
     "text": [
      "        visitorid  itemid  rating\n",
      "0         1155627   61279       1\n",
      "211645     393706  359990       1\n",
      "User 247041\n",
      "     Known positives:\n",
      "                  178621\n",
      "                  217712\n",
      "                  257245\n",
      "                  405934\n",
      "     Recommended: [33940]\n",
      "[(41202, 1.0), (49497, 1.0), (19683, 1.0), (14357, 1.0), (9807, 1.0), (19688, 1.0), (56825, 1.0), (16317, 1.0), (44652, 1.0), (53711, 1.0)]\n",
      "\n"
     ]
    },
    {
     "name": "stderr",
     "output_type": "stream",
     "text": [
      "/Users/awaiskaleem/anaconda3/lib/python3.7/site-packages/sklearn/preprocessing/label.py:273: DataConversionWarning: A column-vector y was passed when a 1d array was expected. Please change the shape of y to (n_samples, ), for example using ravel().\n",
      "  y = column_or_1d(y, warn=True)\n"
     ]
    }
   ],
   "source": [
    "print(model_data.interactions.train[0:2])\n",
    "\n",
    "top_rec = predict_recom(model_data.interactions.test['visitorid'][1:2]\n",
    "                        , model_data.interactions.test['itemid'][1:2]\n",
    "                        , model_data\n",
    "                        , 5, model)"
   ]
  },
  {
   "cell_type": "code",
   "execution_count": 340,
   "metadata": {},
   "outputs": [],
   "source": [
    "def similar_items(internal_idx, item_feats_mtx, model, N=10):\n",
    "    item_representations = item_feats_mtx.dot(model.item_embeddings)\n",
    "\n",
    "    # Cosine similarity\n",
    "    scores = item_representations.dot(item_representations[internal_idx, :])\n",
    "    item_norms = np.linalg.norm(item_representations, axis=1)\n",
    "    scores /= item_norms\n",
    "\n",
    "    best = np.argpartition(scores, -N)[-N:]\n",
    "    return sorted(zip(best, scores[best] / item_norms[internal_idx]),\n",
    "                  key=lambda x: -x[1])"
   ]
  },
  {
   "cell_type": "code",
   "execution_count": 341,
   "metadata": {},
   "outputs": [
    {
     "data": {
      "text/plain": [
       "[(50281, 1.0),\n",
       " (2233, 1.0),\n",
       " (23272, 1.0),\n",
       " (14868, 1.0),\n",
       " (37582, 1.0),\n",
       " (20090, 1.0),\n",
       " (22009, 1.0),\n",
       " (558, 1.0),\n",
       " (49437, 1.0),\n",
       " (61685, 1.0)]"
      ]
     },
     "execution_count": 341,
     "metadata": {},
     "output_type": "execute_result"
    }
   ],
   "source": [
    "similar_items(\n",
    "    61685\n",
    "    , model_data.rate_matrix['feature']\n",
    "    , model)\n",
    "# model_data.rate_matrix['feature'].shape #(61686, 1258)\n",
    "# # model.item_embeddings.shape #[1258,10]\n",
    "\n",
    "# item_representations = model_data.rate_matrix['feature'].dot(model.item_embeddings)\n",
    "# scores = item_representations.dot(item_representations[61685, :])\n",
    "# len(scores)"
   ]
  },
  {
   "cell_type": "code",
   "execution_count": 332,
   "metadata": {},
   "outputs": [
    {
     "data": {
      "text/plain": [
       "array([    0,     1,     2, ..., 61683, 61684, 61685])"
      ]
     },
     "execution_count": 332,
     "metadata": {},
     "output_type": "execute_result"
    }
   ],
   "source": [
    "txfm_list = model_data.cate_enc_dict['itemid'].transform(model_data.item_list)\n",
    "txfm_list"
   ]
  },
  {
   "cell_type": "code",
   "execution_count": 281,
   "metadata": {},
   "outputs": [
    {
     "data": {
      "text/plain": [
       "(121911, 1258)"
      ]
     },
     "execution_count": 281,
     "metadata": {},
     "output_type": "execute_result"
    }
   ],
   "source": [
    "model_data.item_list [cosine_similarity(model.user_embeddings, model.item_embeddings).argsort()][::-1].shape"
   ]
  },
  {
   "cell_type": "code",
   "execution_count": 292,
   "metadata": {},
   "outputs": [
    {
     "name": "stdout",
     "output_type": "stream",
     "text": [
      "[8426 1879 5758 2036 4019  381 2504 7412 7777 8890]\n"
     ]
    }
   ],
   "source": [
    "print(model_data.item_list[model.item_biases.argsort()][-10:])"
   ]
  },
  {
   "cell_type": "code",
   "execution_count": 296,
   "metadata": {},
   "outputs": [
    {
     "data": {
      "text/plain": [
       "(121911, 1258)"
      ]
     },
     "execution_count": 296,
     "metadata": {},
     "output_type": "execute_result"
    }
   ],
   "source": [
    "cosine_similarity(model.user_embeddings, model.item_embeddings).shape"
   ]
  },
  {
   "cell_type": "code",
   "execution_count": null,
   "metadata": {},
   "outputs": [],
   "source": []
  }
 ],
 "metadata": {
  "kernelspec": {
   "display_name": "Python 3",
   "language": "python",
   "name": "python3"
  },
  "language_info": {
   "codemirror_mode": {
    "name": "ipython",
    "version": 3
   },
   "file_extension": ".py",
   "mimetype": "text/x-python",
   "name": "python",
   "nbconvert_exporter": "python",
   "pygments_lexer": "ipython3",
   "version": "3.7.3"
  }
 },
 "nbformat": 4,
 "nbformat_minor": 2
}
