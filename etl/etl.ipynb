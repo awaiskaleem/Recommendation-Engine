{
 "cells": [
  {
   "cell_type": "code",
   "execution_count": 1,
   "metadata": {},
   "outputs": [],
   "source": [
    "import numpy as np # linear algebra\n",
    "import pandas as pd # data processing, CSV file I/O (e.g. pd.read_csv)\n",
    "import seaborn as sns\n",
    "import matplotlib.pyplot as plt"
   ]
  },
  {
   "cell_type": "code",
   "execution_count": 3,
   "metadata": {},
   "outputs": [],
   "source": [
    "items1 = pd.read_csv('../data/item_properties_part1.csv')\n",
    "items2 = pd.read_csv('../data/item_properties_part2.csv')"
   ]
  },
  {
   "cell_type": "code",
   "execution_count": 5,
   "metadata": {},
   "outputs": [],
   "source": [
    "items = pd.concat([items1, items2])\n",
    "items.head(10)"
   ]
  },
  {
   "cell_type": "code",
   "execution_count": 6,
   "metadata": {},
   "outputs": [
    {
     "data": {
      "text/html": [
       "<div>\n",
       "<style scoped>\n",
       "    .dataframe tbody tr th:only-of-type {\n",
       "        vertical-align: middle;\n",
       "    }\n",
       "\n",
       "    .dataframe tbody tr th {\n",
       "        vertical-align: top;\n",
       "    }\n",
       "\n",
       "    .dataframe thead th {\n",
       "        text-align: right;\n",
       "    }\n",
       "</style>\n",
       "<table border=\"1\" class=\"dataframe\">\n",
       "  <thead>\n",
       "    <tr style=\"text-align: right;\">\n",
       "      <th></th>\n",
       "      <th>timestamp</th>\n",
       "      <th>itemid</th>\n",
       "      <th>property</th>\n",
       "      <th>value</th>\n",
       "    </tr>\n",
       "  </thead>\n",
       "  <tbody>\n",
       "    <tr>\n",
       "      <td>0</td>\n",
       "      <td>2015-06-28 05:00:00</td>\n",
       "      <td>460429</td>\n",
       "      <td>categoryid</td>\n",
       "      <td>1338</td>\n",
       "    </tr>\n",
       "    <tr>\n",
       "      <td>1</td>\n",
       "      <td>2015-09-06 05:00:00</td>\n",
       "      <td>206783</td>\n",
       "      <td>888</td>\n",
       "      <td>1116713 960601 n277.200</td>\n",
       "    </tr>\n",
       "    <tr>\n",
       "      <td>2</td>\n",
       "      <td>2015-08-09 05:00:00</td>\n",
       "      <td>395014</td>\n",
       "      <td>400</td>\n",
       "      <td>n552.000 639502 n720.000 424566</td>\n",
       "    </tr>\n",
       "    <tr>\n",
       "      <td>3</td>\n",
       "      <td>2015-05-10 05:00:00</td>\n",
       "      <td>59481</td>\n",
       "      <td>790</td>\n",
       "      <td>n15360.000</td>\n",
       "    </tr>\n",
       "    <tr>\n",
       "      <td>4</td>\n",
       "      <td>2015-05-17 05:00:00</td>\n",
       "      <td>156781</td>\n",
       "      <td>917</td>\n",
       "      <td>828513</td>\n",
       "    </tr>\n",
       "    <tr>\n",
       "      <td>5</td>\n",
       "      <td>2015-07-05 05:00:00</td>\n",
       "      <td>285026</td>\n",
       "      <td>available</td>\n",
       "      <td>0</td>\n",
       "    </tr>\n",
       "    <tr>\n",
       "      <td>6</td>\n",
       "      <td>2015-06-14 05:00:00</td>\n",
       "      <td>89534</td>\n",
       "      <td>213</td>\n",
       "      <td>1121373</td>\n",
       "    </tr>\n",
       "    <tr>\n",
       "      <td>7</td>\n",
       "      <td>2015-05-17 05:00:00</td>\n",
       "      <td>264312</td>\n",
       "      <td>6</td>\n",
       "      <td>319724</td>\n",
       "    </tr>\n",
       "    <tr>\n",
       "      <td>8</td>\n",
       "      <td>2015-06-07 05:00:00</td>\n",
       "      <td>229370</td>\n",
       "      <td>202</td>\n",
       "      <td>1330310</td>\n",
       "    </tr>\n",
       "    <tr>\n",
       "      <td>9</td>\n",
       "      <td>2015-06-14 05:00:00</td>\n",
       "      <td>98113</td>\n",
       "      <td>451</td>\n",
       "      <td>1141052 n48.000</td>\n",
       "    </tr>\n",
       "  </tbody>\n",
       "</table>\n",
       "</div>"
      ],
      "text/plain": [
       "            timestamp  itemid    property                            value\n",
       "0 2015-06-28 05:00:00  460429  categoryid                             1338\n",
       "1 2015-09-06 05:00:00  206783         888          1116713 960601 n277.200\n",
       "2 2015-08-09 05:00:00  395014         400  n552.000 639502 n720.000 424566\n",
       "3 2015-05-10 05:00:00   59481         790                       n15360.000\n",
       "4 2015-05-17 05:00:00  156781         917                           828513\n",
       "5 2015-07-05 05:00:00  285026   available                                0\n",
       "6 2015-06-14 05:00:00   89534         213                          1121373\n",
       "7 2015-05-17 05:00:00  264312           6                           319724\n",
       "8 2015-06-07 05:00:00  229370         202                          1330310\n",
       "9 2015-06-14 05:00:00   98113         451                  1141052 n48.000"
      ]
     },
     "execution_count": 6,
     "metadata": {},
     "output_type": "execute_result"
    }
   ],
   "source": [
    "import datetime\n",
    "times =[]\n",
    "for i in items['timestamp']:\n",
    "    times.append(datetime.datetime.fromtimestamp(i//1000.0)) \n",
    "items['timestamp'] = times\n",
    "items.head(10)"
   ]
  },
  {
   "cell_type": "code",
   "execution_count": 8,
   "metadata": {},
   "outputs": [
    {
     "data": {
      "text/html": [
       "<div>\n",
       "<style scoped>\n",
       "    .dataframe tbody tr th:only-of-type {\n",
       "        vertical-align: middle;\n",
       "    }\n",
       "\n",
       "    .dataframe tbody tr th {\n",
       "        vertical-align: top;\n",
       "    }\n",
       "\n",
       "    .dataframe thead th {\n",
       "        text-align: right;\n",
       "    }\n",
       "</style>\n",
       "<table border=\"1\" class=\"dataframe\">\n",
       "  <thead>\n",
       "    <tr style=\"text-align: right;\">\n",
       "      <th></th>\n",
       "      <th>timestamp</th>\n",
       "      <th>visitorid</th>\n",
       "      <th>event</th>\n",
       "      <th>itemid</th>\n",
       "      <th>transactionid</th>\n",
       "    </tr>\n",
       "  </thead>\n",
       "  <tbody>\n",
       "    <tr>\n",
       "      <td>0</td>\n",
       "      <td>1433221332117</td>\n",
       "      <td>257597</td>\n",
       "      <td>view</td>\n",
       "      <td>355908</td>\n",
       "      <td>NaN</td>\n",
       "    </tr>\n",
       "    <tr>\n",
       "      <td>1</td>\n",
       "      <td>1433224214164</td>\n",
       "      <td>992329</td>\n",
       "      <td>view</td>\n",
       "      <td>248676</td>\n",
       "      <td>NaN</td>\n",
       "    </tr>\n",
       "    <tr>\n",
       "      <td>2</td>\n",
       "      <td>1433221999827</td>\n",
       "      <td>111016</td>\n",
       "      <td>view</td>\n",
       "      <td>318965</td>\n",
       "      <td>NaN</td>\n",
       "    </tr>\n",
       "    <tr>\n",
       "      <td>3</td>\n",
       "      <td>1433221955914</td>\n",
       "      <td>483717</td>\n",
       "      <td>view</td>\n",
       "      <td>253185</td>\n",
       "      <td>NaN</td>\n",
       "    </tr>\n",
       "    <tr>\n",
       "      <td>4</td>\n",
       "      <td>1433221337106</td>\n",
       "      <td>951259</td>\n",
       "      <td>view</td>\n",
       "      <td>367447</td>\n",
       "      <td>NaN</td>\n",
       "    </tr>\n",
       "    <tr>\n",
       "      <td>5</td>\n",
       "      <td>1433224086234</td>\n",
       "      <td>972639</td>\n",
       "      <td>view</td>\n",
       "      <td>22556</td>\n",
       "      <td>NaN</td>\n",
       "    </tr>\n",
       "    <tr>\n",
       "      <td>6</td>\n",
       "      <td>1433221923240</td>\n",
       "      <td>810725</td>\n",
       "      <td>view</td>\n",
       "      <td>443030</td>\n",
       "      <td>NaN</td>\n",
       "    </tr>\n",
       "    <tr>\n",
       "      <td>7</td>\n",
       "      <td>1433223291897</td>\n",
       "      <td>794181</td>\n",
       "      <td>view</td>\n",
       "      <td>439202</td>\n",
       "      <td>NaN</td>\n",
       "    </tr>\n",
       "    <tr>\n",
       "      <td>8</td>\n",
       "      <td>1433220899221</td>\n",
       "      <td>824915</td>\n",
       "      <td>view</td>\n",
       "      <td>428805</td>\n",
       "      <td>NaN</td>\n",
       "    </tr>\n",
       "    <tr>\n",
       "      <td>9</td>\n",
       "      <td>1433221204592</td>\n",
       "      <td>339335</td>\n",
       "      <td>view</td>\n",
       "      <td>82389</td>\n",
       "      <td>NaN</td>\n",
       "    </tr>\n",
       "  </tbody>\n",
       "</table>\n",
       "</div>"
      ],
      "text/plain": [
       "       timestamp  visitorid event  itemid  transactionid\n",
       "0  1433221332117     257597  view  355908            NaN\n",
       "1  1433224214164     992329  view  248676            NaN\n",
       "2  1433221999827     111016  view  318965            NaN\n",
       "3  1433221955914     483717  view  253185            NaN\n",
       "4  1433221337106     951259  view  367447            NaN\n",
       "5  1433224086234     972639  view   22556            NaN\n",
       "6  1433221923240     810725  view  443030            NaN\n",
       "7  1433223291897     794181  view  439202            NaN\n",
       "8  1433220899221     824915  view  428805            NaN\n",
       "9  1433221204592     339335  view   82389            NaN"
      ]
     },
     "execution_count": 8,
     "metadata": {},
     "output_type": "execute_result"
    }
   ],
   "source": [
    "events = pd.read_csv('../data/events.csv')\n",
    "events.head(10)"
   ]
  },
  {
   "cell_type": "code",
   "execution_count": 10,
   "metadata": {},
   "outputs": [
    {
     "data": {
      "text/html": [
       "<div>\n",
       "<style scoped>\n",
       "    .dataframe tbody tr th:only-of-type {\n",
       "        vertical-align: middle;\n",
       "    }\n",
       "\n",
       "    .dataframe tbody tr th {\n",
       "        vertical-align: top;\n",
       "    }\n",
       "\n",
       "    .dataframe thead th {\n",
       "        text-align: right;\n",
       "    }\n",
       "</style>\n",
       "<table border=\"1\" class=\"dataframe\">\n",
       "  <thead>\n",
       "    <tr style=\"text-align: right;\">\n",
       "      <th></th>\n",
       "      <th>categoryid</th>\n",
       "      <th>parentid</th>\n",
       "    </tr>\n",
       "  </thead>\n",
       "  <tbody>\n",
       "    <tr>\n",
       "      <td>0</td>\n",
       "      <td>1016</td>\n",
       "      <td>213.0</td>\n",
       "    </tr>\n",
       "    <tr>\n",
       "      <td>1</td>\n",
       "      <td>809</td>\n",
       "      <td>169.0</td>\n",
       "    </tr>\n",
       "    <tr>\n",
       "      <td>2</td>\n",
       "      <td>570</td>\n",
       "      <td>9.0</td>\n",
       "    </tr>\n",
       "    <tr>\n",
       "      <td>3</td>\n",
       "      <td>1691</td>\n",
       "      <td>885.0</td>\n",
       "    </tr>\n",
       "    <tr>\n",
       "      <td>4</td>\n",
       "      <td>536</td>\n",
       "      <td>1691.0</td>\n",
       "    </tr>\n",
       "    <tr>\n",
       "      <td>5</td>\n",
       "      <td>231</td>\n",
       "      <td>NaN</td>\n",
       "    </tr>\n",
       "    <tr>\n",
       "      <td>6</td>\n",
       "      <td>542</td>\n",
       "      <td>378.0</td>\n",
       "    </tr>\n",
       "    <tr>\n",
       "      <td>7</td>\n",
       "      <td>1146</td>\n",
       "      <td>542.0</td>\n",
       "    </tr>\n",
       "    <tr>\n",
       "      <td>8</td>\n",
       "      <td>1140</td>\n",
       "      <td>542.0</td>\n",
       "    </tr>\n",
       "    <tr>\n",
       "      <td>9</td>\n",
       "      <td>1479</td>\n",
       "      <td>1537.0</td>\n",
       "    </tr>\n",
       "  </tbody>\n",
       "</table>\n",
       "</div>"
      ],
      "text/plain": [
       "   categoryid  parentid\n",
       "0        1016     213.0\n",
       "1         809     169.0\n",
       "2         570       9.0\n",
       "3        1691     885.0\n",
       "4         536    1691.0\n",
       "5         231       NaN\n",
       "6         542     378.0\n",
       "7        1146     542.0\n",
       "8        1140     542.0\n",
       "9        1479    1537.0"
      ]
     },
     "execution_count": 10,
     "metadata": {},
     "output_type": "execute_result"
    }
   ],
   "source": [
    "category_tree = pd.read_csv('../data/category_tree.csv')\n",
    "category_tree.head(10)"
   ]
  },
  {
   "cell_type": "code",
   "execution_count": 11,
   "metadata": {},
   "outputs": [
    {
     "data": {
      "text/html": [
       "<div>\n",
       "<style scoped>\n",
       "    .dataframe tbody tr th:only-of-type {\n",
       "        vertical-align: middle;\n",
       "    }\n",
       "\n",
       "    .dataframe tbody tr th {\n",
       "        vertical-align: top;\n",
       "    }\n",
       "\n",
       "    .dataframe thead th {\n",
       "        text-align: right;\n",
       "    }\n",
       "</style>\n",
       "<table border=\"1\" class=\"dataframe\">\n",
       "  <thead>\n",
       "    <tr style=\"text-align: right;\">\n",
       "      <th></th>\n",
       "      <th>visitorid</th>\n",
       "      <th>itemid</th>\n",
       "      <th>event</th>\n",
       "      <th>date</th>\n",
       "    </tr>\n",
       "  </thead>\n",
       "  <tbody>\n",
       "    <tr>\n",
       "      <td>0</td>\n",
       "      <td>1155627</td>\n",
       "      <td>61279</td>\n",
       "      <td>view</td>\n",
       "      <td>2015-05-03</td>\n",
       "    </tr>\n",
       "    <tr>\n",
       "      <td>1</td>\n",
       "      <td>53842</td>\n",
       "      <td>12217</td>\n",
       "      <td>view</td>\n",
       "      <td>2015-05-03</td>\n",
       "    </tr>\n",
       "    <tr>\n",
       "      <td>2</td>\n",
       "      <td>710338</td>\n",
       "      <td>81856</td>\n",
       "      <td>view</td>\n",
       "      <td>2015-05-03</td>\n",
       "    </tr>\n",
       "    <tr>\n",
       "      <td>3</td>\n",
       "      <td>807228</td>\n",
       "      <td>395446</td>\n",
       "      <td>view</td>\n",
       "      <td>2015-05-03</td>\n",
       "    </tr>\n",
       "    <tr>\n",
       "      <td>4</td>\n",
       "      <td>190672</td>\n",
       "      <td>259357</td>\n",
       "      <td>transaction</td>\n",
       "      <td>2015-05-03</td>\n",
       "    </tr>\n",
       "  </tbody>\n",
       "</table>\n",
       "</div>"
      ],
      "text/plain": [
       "   visitorid  itemid        event        date\n",
       "0    1155627   61279         view  2015-05-03\n",
       "1      53842   12217         view  2015-05-03\n",
       "2     710338   81856         view  2015-05-03\n",
       "3     807228  395446         view  2015-05-03\n",
       "4     190672  259357  transaction  2015-05-03"
      ]
     },
     "execution_count": 11,
     "metadata": {},
     "output_type": "execute_result"
    }
   ],
   "source": [
    "events = events.assign(date=pd.Series(datetime.datetime.fromtimestamp(i/1000).date() for i in events.timestamp))\n",
    "events = events.sort_values('date').reset_index(drop=True)\n",
    "events = events[['visitorid','itemid','event', 'date']]\n",
    "events.head(5)"
   ]
  },
  {
   "cell_type": "code",
   "execution_count": 12,
   "metadata": {},
   "outputs": [],
   "source": [
    "start_date = '2015-5-3'\n",
    "end_date = '2015-5-18'\n",
    "fd = lambda x: datetime.datetime.strptime(x, '%Y-%m-%d').date()\n",
    "events = events[(events.date >= fd(start_date)) & (events.date <= fd(end_date))]"
   ]
  },
  {
   "cell_type": "code",
   "execution_count": 48,
   "metadata": {},
   "outputs": [
    {
     "data": {
      "text/plain": [
       "(10510, 4)"
      ]
     },
     "execution_count": 48,
     "metadata": {},
     "output_type": "execute_result"
    }
   ],
   "source": [
    "split_point = np.int(np.round(events.shape[0]*0.8))\n",
    "events_train = events.iloc[0:split_point]\n",
    "events_test = events.iloc[split_point::]\n",
    "#Get only visitors and items that are in train as well\n",
    "events_test = events_test[\n",
    "    (events_test['visitorid'].isin(events_train['visitorid'])) & \n",
    "    (events_test['itemid'].isin(events_train['itemid']))\n",
    "]\n",
    "events_test.shape\n",
    "# (64019, 4)\n",
    "# (10510, 4)"
   ]
  },
  {
   "cell_type": "code",
   "execution_count": 20,
   "metadata": {},
   "outputs": [],
   "source": [
    "from lightfm import LightFM\n",
    "from lightfm.evaluation import auc_score\n",
    "from scipy.sparse import coo_matrix\n",
    "from sklearn import preprocessing"
   ]
  },
  {
   "cell_type": "code",
   "execution_count": 15,
   "metadata": {},
   "outputs": [],
   "source": [
    "id_cols=['visitorid','itemid']\n",
    "trans_cat_train=dict()\n",
    "trans_cat_test=dict()\n",
    "\n",
    "for k in id_cols:\n",
    "    cate_enc=preprocessing.LabelEncoder()\n",
    "    trans_cat_train[k]=cate_enc.fit_transform(events_train[k].values)\n",
    "    trans_cat_test[k]=cate_enc.transform(events_test[k].values)"
   ]
  },
  {
   "cell_type": "code",
   "execution_count": 45,
   "metadata": {},
   "outputs": [
    {
     "data": {
      "text/plain": [
       "{'visitorid': array([111231,   5243,  68449, ..., 113575, 102010,  13908]),\n",
       " 'itemid': array([ 9359,  1871, 12526, ..., 45843,   186,  9951])}"
      ]
     },
     "execution_count": 45,
     "metadata": {},
     "output_type": "execute_result"
    }
   ],
   "source": [
    "trans_cat_train."
   ]
  },
  {
   "cell_type": "code",
   "execution_count": 21,
   "metadata": {},
   "outputs": [
    {
     "data": {
      "text/plain": [
       "<lightfm.lightfm.LightFM at 0x1acb4dd860>"
      ]
     },
     "execution_count": 21,
     "metadata": {},
     "output_type": "execute_result"
    }
   ],
   "source": [
    "ratings = dict()\n",
    "cate_enc=preprocessing.LabelEncoder()\n",
    "ratings['train'] = cate_enc.fit_transform(events_train.event)\n",
    "ratings['test'] = cate_enc.transform(events_test.event)\n"
   ]
  },
  {
   "cell_type": "code",
   "execution_count": 49,
   "metadata": {},
   "outputs": [
    {
     "data": {
      "text/plain": [
       "array([2, 2, 2, ..., 2, 2, 2])"
      ]
     },
     "execution_count": 49,
     "metadata": {},
     "output_type": "execute_result"
    }
   ],
   "source": [
    "ratings['train']"
   ]
  },
  {
   "cell_type": "code",
   "execution_count": 25,
   "metadata": {},
   "outputs": [
    {
     "data": {
      "text/plain": [
       "<135523x71818 sparse matrix of type '<class 'numpy.float32'>'\n",
       "\twith 256076 stored elements in COOrdinate format>"
      ]
     },
     "execution_count": 25,
     "metadata": {},
     "output_type": "execute_result"
    }
   ],
   "source": [
    "n_users=len(np.unique(trans_cat_train['visitorid']))\n",
    "n_items=len(np.unique(trans_cat_train['itemid']))\n",
    "rate_matrix = dict()\n",
    "rate_matrix['train'] = coo_matrix((ratings['train'], (trans_cat_train['visitorid'], trans_cat_train['itemid'])), shape=(n_users,n_items))\n",
    "rate_matrix['test'] = coo_matrix((ratings['test'], (trans_cat_test['visitorid'], trans_cat_test['itemid'])), shape=(n_users,n_items))"
   ]
  },
  {
   "cell_type": "code",
   "execution_count": null,
   "metadata": {},
   "outputs": [],
   "source": [
    "model = LightFM(no_components=10, loss='warp')\n",
    "model.fit(rate_matrix['train'], epochs=100, num_threads=8)"
   ]
  },
  {
   "cell_type": "code",
   "execution_count": 22,
   "metadata": {},
   "outputs": [
    {
     "name": "stdout",
     "output_type": "stream",
     "text": [
      "0.998681\n",
      "0.82616794\n"
     ]
    }
   ],
   "source": [
    "print(auc_score(model, rate_matrix['train'], num_threads=8).mean())\n",
    "print(auc_score(model, rate_matrix['test'], num_threads=10).mean())"
   ]
  },
  {
   "cell_type": "code",
   "execution_count": null,
   "metadata": {},
   "outputs": [],
   "source": []
  }
 ],
 "metadata": {
  "kernelspec": {
   "display_name": "Python 3",
   "language": "python",
   "name": "python3"
  },
  "language_info": {
   "codemirror_mode": {
    "name": "ipython",
    "version": 3
   },
   "file_extension": ".py",
   "mimetype": "text/x-python",
   "name": "python",
   "nbconvert_exporter": "python",
   "pygments_lexer": "ipython3",
   "version": "3.7.3"
  }
 },
 "nbformat": 4,
 "nbformat_minor": 2
}
