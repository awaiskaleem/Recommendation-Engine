{
 "cells": [
  {
   "cell_type": "code",
   "execution_count": 161,
   "metadata": {},
   "outputs": [],
   "source": [
    "if 'feature_engine' in sys.modules:  \n",
    "    del sys.modules[\"feature_engine\"]\n",
    "from feature_engine import Items, Interactions"
   ]
  },
  {
   "cell_type": "code",
   "execution_count": 162,
   "metadata": {},
   "outputs": [],
   "source": [
    "items = Items()"
   ]
  },
  {
   "cell_type": "code",
   "execution_count": 163,
   "metadata": {},
   "outputs": [],
   "source": [
    "interactions = Interactions()"
   ]
  },
  {
   "cell_type": "code",
   "execution_count": 160,
   "metadata": {},
   "outputs": [
    {
     "data": {
      "text/html": [
       "<div>\n",
       "<style scoped>\n",
       "    .dataframe tbody tr th:only-of-type {\n",
       "        vertical-align: middle;\n",
       "    }\n",
       "\n",
       "    .dataframe tbody tr th {\n",
       "        vertical-align: top;\n",
       "    }\n",
       "\n",
       "    .dataframe thead th {\n",
       "        text-align: right;\n",
       "    }\n",
       "</style>\n",
       "<table border=\"1\" class=\"dataframe\">\n",
       "  <thead>\n",
       "    <tr style=\"text-align: right;\">\n",
       "      <th></th>\n",
       "      <th>visitorid</th>\n",
       "      <th>itemid</th>\n",
       "      <th>rating</th>\n",
       "    </tr>\n",
       "  </thead>\n",
       "  <tbody>\n",
       "    <tr>\n",
       "      <th>109930</th>\n",
       "      <td>689</td>\n",
       "      <td>414593</td>\n",
       "      <td>1</td>\n",
       "    </tr>\n",
       "  </tbody>\n",
       "</table>\n",
       "</div>"
      ],
      "text/plain": [
       "        visitorid  itemid  rating\n",
       "109930        689  414593       1"
      ]
     },
     "execution_count": 160,
     "metadata": {},
     "output_type": "execute_result"
    }
   ],
   "source": [
    "# interactions.train[interactions.train.visitorid == 689]\n",
    "# interactions.test[interactions.test.visitorid == 689]\n",
    "# # items.items[items.items['itemid']==105824]\n",
    "# # 105824"
   ]
  },
  {
   "cell_type": "code",
   "execution_count": 166,
   "metadata": {},
   "outputs": [],
   "source": [
    "items.items = items.cleanup_items(items.items, interactions.train)\n",
    "interactions.train = items.cleanup_items(interactions.train, items.items)\n",
    "interactions.test = items.cleanup_items(interactions.test, items.items)\n",
    "\n",
    "interactions.test = interactions.processing_testset(interactions.test, interactions.train)\n"
   ]
  },
  {
   "cell_type": "code",
   "execution_count": 168,
   "metadata": {},
   "outputs": [],
   "source": [
    "items.run_unit_tests(items.items, interactions.train)\n",
    "interactions.run_unit_tests(interactions.test, interactions.train)"
   ]
  },
  {
   "cell_type": "code",
   "execution_count": 174,
   "metadata": {},
   "outputs": [],
   "source": [
    "n_users=len(np.unique(interactions.train['visitorid']))\n",
    "n_items=len(np.unique(items.items))"
   ]
  },
  {
   "cell_type": "code",
   "execution_count": 175,
   "metadata": {},
   "outputs": [],
   "source": [
    "from lightfm import LightFM\n",
    "from lightfm.evaluation import auc_score, precision_at_k, recall_at_k\n",
    "from scipy.sparse import coo_matrix\n",
    "from sklearn import preprocessing"
   ]
  },
  {
   "cell_type": "code",
   "execution_count": 178,
   "metadata": {},
   "outputs": [],
   "source": [
    "id_cols=['visitorid','itemid']\n",
    "trans_cat_train=dict()\n",
    "trans_cat_test=dict()\n",
    "\n",
    "cate_enc_dict = dict()\n",
    "for k in id_cols:\n",
    "    cate_enc_dict[k] = preprocessing.LabelEncoder()\n",
    "    trans_cat_train[k]=cate_enc_dict[k].fit_transform(interactions.train[k].values)\n",
    "    trans_cat_test[k]=cate_enc_dict[k].transform(interactions.test[k].values)"
   ]
  },
  {
   "cell_type": "code",
   "execution_count": 181,
   "metadata": {},
   "outputs": [],
   "source": [
    "rate_matrix = dict()\n",
    "rate_matrix['train'] = coo_matrix((interactions.train['rating'], (trans_cat_train['visitorid'], trans_cat_train['itemid'])), shape=(n_users,n_items))\n",
    "rate_matrix['test'] = coo_matrix((interactions.test['rating'], (trans_cat_test['visitorid'], trans_cat_test['itemid'])), shape=(n_users,n_items))\n"
   ]
  },
  {
   "cell_type": "code",
   "execution_count": 182,
   "metadata": {},
   "outputs": [
    {
     "data": {
      "text/plain": [
       "<lightfm.lightfm.LightFM at 0x1805390b8>"
      ]
     },
     "execution_count": 182,
     "metadata": {},
     "output_type": "execute_result"
    }
   ],
   "source": [
    "model = LightFM(no_components=10, loss='warp')\n",
    "model.fit(rate_matrix['train'], epochs=100, num_threads=8)"
   ]
  },
  {
   "cell_type": "code",
   "execution_count": 183,
   "metadata": {},
   "outputs": [],
   "source": [
    "def predict_recom(user_id_orig, recom_num, model):\n",
    "    result_dict = dict()\n",
    "    result_array = list()\n",
    "    user_id = cate_enc_dict['visitorid'].transform([user_id_orig])[0]\n",
    "    #Known Positives\n",
    "    known_positives = np.unique(np.concatenate((events_train['itemid'].values[np.where(trans_cat_train['visitorid']==user_id)]\n",
    "                    , events_test['itemid'].values[np.where(trans_cat_test['visitorid']==user_id)]), axis=0))\n",
    "    \n",
    "    #Recommended\n",
    "    scores = np.unique(model.predict(user_ids = [user_id], item_ids = trans_cat_test['itemid']))\n",
    "    scores_list = dict()\n",
    "    top_items = trans_cat_test['itemid'][np.argsort(-scores)]\n",
    "    print(\"TOP\",len(scores))\n",
    "    print(len(trans_cat_test['itemid']))\n",
    "\n",
    "    # printing out the result\n",
    "    print(\"User %s\" % cate_enc_dict['visitorid'].inverse_transform([user_id])[0])\n",
    "    print(\"     Known positives:\")\n",
    "\n",
    "    for x in known_positives[:recom_num]:\n",
    "        print(\"                  %s\" % x)\n",
    "\n",
    "\n",
    "    print(\"     Recommended:\")\n",
    "\n",
    "    for x in top_items[:recom_num]:\n",
    "        print(\"                  %s\" % cate_enc_dict['itemid'].inverse_transform([x])[0])\n",
    "        result_array.append(x)\n",
    "    results_dict[user_id_orig] = result_array\n",
    "    print(\"\")\n",
    "    return results_dict\n",
    "    "
   ]
  },
  {
   "cell_type": "code",
   "execution_count": 184,
   "metadata": {},
   "outputs": [
    {
     "ename": "NameError",
     "evalue": "name 'events_test' is not defined",
     "output_type": "error",
     "traceback": [
      "\u001b[0;31m---------------------------------------------------------------------------\u001b[0m",
      "\u001b[0;31mNameError\u001b[0m                                 Traceback (most recent call last)",
      "\u001b[0;32m<ipython-input-184-80ce62edf772>\u001b[0m in \u001b[0;36m<module>\u001b[0;34m\u001b[0m\n\u001b[0;32m----> 1\u001b[0;31m \u001b[0;32mfor\u001b[0m \u001b[0musr\u001b[0m \u001b[0;32min\u001b[0m \u001b[0mnp\u001b[0m\u001b[0;34m.\u001b[0m\u001b[0marray\u001b[0m\u001b[0;34m(\u001b[0m\u001b[0mevents_test\u001b[0m\u001b[0;34m[\u001b[0m\u001b[0;34m'visitorid'\u001b[0m\u001b[0;34m]\u001b[0m\u001b[0;34m)\u001b[0m\u001b[0;34m[\u001b[0m\u001b[0;34m:\u001b[0m\u001b[0;36m2\u001b[0m\u001b[0;34m]\u001b[0m\u001b[0;34m:\u001b[0m\u001b[0;34m\u001b[0m\u001b[0;34m\u001b[0m\u001b[0m\n\u001b[0m\u001b[1;32m      2\u001b[0m     \u001b[0mtop_rec\u001b[0m \u001b[0;34m=\u001b[0m \u001b[0mpredict_recom\u001b[0m\u001b[0;34m(\u001b[0m\u001b[0musr\u001b[0m\u001b[0;34m,\u001b[0m \u001b[0;36m5\u001b[0m\u001b[0;34m,\u001b[0m \u001b[0mmodel\u001b[0m\u001b[0;34m)\u001b[0m\u001b[0;34m\u001b[0m\u001b[0;34m\u001b[0m\u001b[0m\n",
      "\u001b[0;31mNameError\u001b[0m: name 'events_test' is not defined"
     ]
    }
   ],
   "source": [
    "for usr in np.array(events_test['visitorid'])[:2]:\n",
    "    top_rec = predict_recom(usr, 5, model)"
   ]
  },
  {
   "cell_type": "code",
   "execution_count": 187,
   "metadata": {},
   "outputs": [],
   "source": [
    "import feature_extractor\n",
    "# sys.path.insert(1, '/path/to/application/app/folder')"
   ]
  },
  {
   "cell_type": "code",
   "execution_count": 188,
   "metadata": {},
   "outputs": [
    {
     "data": {
      "text/plain": [
       "['/Users/awaiskaleem/Documents/Study/git/E-Commerce-Recommendation-Engine/etl',\n",
       " '/Users/awaiskaleem/anaconda3/lib/python37.zip',\n",
       " '/Users/awaiskaleem/anaconda3/lib/python3.7',\n",
       " '/Users/awaiskaleem/anaconda3/lib/python3.7/lib-dynload',\n",
       " '',\n",
       " '/Users/awaiskaleem/anaconda3/lib/python3.7/site-packages',\n",
       " '/Users/awaiskaleem/anaconda3/lib/python3.7/site-packages/aeosa',\n",
       " '/Users/awaiskaleem/Documents/Study/git/titanic/packages/regression_model',\n",
       " '/Users/awaiskaleem/anaconda3/lib/python3.7/site-packages/IPython/extensions',\n",
       " '/Users/awaiskaleem/.ipython']"
      ]
     },
     "execution_count": 188,
     "metadata": {},
     "output_type": "execute_result"
    }
   ],
   "source": [
    "import sys\n",
    "sys.path"
   ]
  },
  {
   "cell_type": "code",
   "execution_count": null,
   "metadata": {},
   "outputs": [],
   "source": []
  }
 ],
 "metadata": {
  "kernelspec": {
   "display_name": "Python 3",
   "language": "python",
   "name": "python3"
  },
  "language_info": {
   "codemirror_mode": {
    "name": "ipython",
    "version": 3
   },
   "file_extension": ".py",
   "mimetype": "text/x-python",
   "name": "python",
   "nbconvert_exporter": "python",
   "pygments_lexer": "ipython3",
   "version": "3.7.3"
  }
 },
 "nbformat": 4,
 "nbformat_minor": 2
}
